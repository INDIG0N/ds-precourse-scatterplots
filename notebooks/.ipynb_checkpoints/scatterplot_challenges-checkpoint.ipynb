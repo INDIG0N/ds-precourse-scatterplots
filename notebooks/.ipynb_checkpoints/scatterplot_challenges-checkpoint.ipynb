{
 "cells": [
  {
   "cell_type": "markdown",
   "metadata": {},
   "source": [
    "# Scatterplots and Line Graphs\n",
    "\n",
    "---\n",
    "\n",
    "## Challenges\n",
    "\n",
    "For the lessons on plotting in DSI precourse, instead of doing regular challenges - you're being asked to write the code to make some basic plots in this Jupyter Notebook before committing your work and submitting the URL to your repository.\n",
    "\n",
    "To do so, you must be sure to first fork and clone this repo, and if you aren't sure how to do that, you can look back to those instructions [here](https://learn-2.galvanize.com/content_link/github/gSchool/dsi-prep-module-setup/units/04_github/03_fork_clone_pull.md).\n",
    "\n",
    "The completion of this module requires a basic understanding of `numpy`, `pandas`, and `matplotlib.pyplot`. Please __*do not*__ use any of the pandas built-in visualization tools.\n",
    "\n",
    "Lastly, you'll need to execute the cells with existing code to import the modules, and the data."
   ]
  },
  {
   "cell_type": "markdown",
   "metadata": {},
   "source": [
    "### Challenge 1\n",
    "\n",
    "For the scatter plot portion of this assignment, you'll be using data from the popular [cars dataset](https://s3-us-west-2.amazonaws.com/learn-assets.galvanize.com/gSchool/ds-curriculum/precourse/cars.csv)."
   ]
  },
  {
   "cell_type": "code",
   "execution_count": 36,
   "metadata": {},
   "outputs": [
    {
     "data": {
      "text/html": [
       "<div>\n",
       "<style scoped>\n",
       "    .dataframe tbody tr th:only-of-type {\n",
       "        vertical-align: middle;\n",
       "    }\n",
       "\n",
       "    .dataframe tbody tr th {\n",
       "        vertical-align: top;\n",
       "    }\n",
       "\n",
       "    .dataframe thead th {\n",
       "        text-align: right;\n",
       "    }\n",
       "</style>\n",
       "<table border=\"1\" class=\"dataframe\">\n",
       "  <thead>\n",
       "    <tr style=\"text-align: right;\">\n",
       "      <th></th>\n",
       "      <th>make_model</th>\n",
       "      <th>mpg</th>\n",
       "      <th>cyl</th>\n",
       "      <th>disp</th>\n",
       "      <th>hp</th>\n",
       "      <th>drat</th>\n",
       "      <th>wt</th>\n",
       "      <th>qsec</th>\n",
       "      <th>vs</th>\n",
       "      <th>am</th>\n",
       "      <th>gear</th>\n",
       "      <th>carb</th>\n",
       "    </tr>\n",
       "  </thead>\n",
       "  <tbody>\n",
       "    <tr>\n",
       "      <th>0</th>\n",
       "      <td>Mazda RX4</td>\n",
       "      <td>21.0</td>\n",
       "      <td>6</td>\n",
       "      <td>160.0</td>\n",
       "      <td>110</td>\n",
       "      <td>3.90</td>\n",
       "      <td>2.620</td>\n",
       "      <td>16.46</td>\n",
       "      <td>0</td>\n",
       "      <td>1</td>\n",
       "      <td>4</td>\n",
       "      <td>4</td>\n",
       "    </tr>\n",
       "    <tr>\n",
       "      <th>1</th>\n",
       "      <td>Mazda RX4 Wag</td>\n",
       "      <td>21.0</td>\n",
       "      <td>6</td>\n",
       "      <td>160.0</td>\n",
       "      <td>110</td>\n",
       "      <td>3.90</td>\n",
       "      <td>2.875</td>\n",
       "      <td>17.02</td>\n",
       "      <td>0</td>\n",
       "      <td>1</td>\n",
       "      <td>4</td>\n",
       "      <td>4</td>\n",
       "    </tr>\n",
       "    <tr>\n",
       "      <th>2</th>\n",
       "      <td>Datsun 710</td>\n",
       "      <td>22.8</td>\n",
       "      <td>4</td>\n",
       "      <td>108.0</td>\n",
       "      <td>93</td>\n",
       "      <td>3.85</td>\n",
       "      <td>2.320</td>\n",
       "      <td>18.61</td>\n",
       "      <td>1</td>\n",
       "      <td>1</td>\n",
       "      <td>4</td>\n",
       "      <td>1</td>\n",
       "    </tr>\n",
       "    <tr>\n",
       "      <th>3</th>\n",
       "      <td>Hornet 4 Drive</td>\n",
       "      <td>21.4</td>\n",
       "      <td>6</td>\n",
       "      <td>258.0</td>\n",
       "      <td>110</td>\n",
       "      <td>3.08</td>\n",
       "      <td>3.215</td>\n",
       "      <td>19.44</td>\n",
       "      <td>1</td>\n",
       "      <td>0</td>\n",
       "      <td>3</td>\n",
       "      <td>1</td>\n",
       "    </tr>\n",
       "    <tr>\n",
       "      <th>4</th>\n",
       "      <td>Hornet Sportabout</td>\n",
       "      <td>18.7</td>\n",
       "      <td>8</td>\n",
       "      <td>360.0</td>\n",
       "      <td>175</td>\n",
       "      <td>3.15</td>\n",
       "      <td>3.440</td>\n",
       "      <td>17.02</td>\n",
       "      <td>0</td>\n",
       "      <td>0</td>\n",
       "      <td>3</td>\n",
       "      <td>2</td>\n",
       "    </tr>\n",
       "  </tbody>\n",
       "</table>\n",
       "</div>"
      ],
      "text/plain": [
       "          make_model   mpg  cyl   disp   hp  drat     wt   qsec  vs  am  gear  \\\n",
       "0          Mazda RX4  21.0    6  160.0  110  3.90  2.620  16.46   0   1     4   \n",
       "1      Mazda RX4 Wag  21.0    6  160.0  110  3.90  2.875  17.02   0   1     4   \n",
       "2         Datsun 710  22.8    4  108.0   93  3.85  2.320  18.61   1   1     4   \n",
       "3     Hornet 4 Drive  21.4    6  258.0  110  3.08  3.215  19.44   1   0     3   \n",
       "4  Hornet Sportabout  18.7    8  360.0  175  3.15  3.440  17.02   0   0     3   \n",
       "\n",
       "   carb  \n",
       "0     4  \n",
       "1     4  \n",
       "2     1  \n",
       "3     1  \n",
       "4     2  "
      ]
     },
     "execution_count": 36,
     "metadata": {},
     "output_type": "execute_result"
    }
   ],
   "source": [
    "import numpy as np\n",
    "import matplotlib.pyplot as plt\n",
    "import pandas as pd\n",
    "\n",
    "cars_data = pd.read_csv('../data/cars.csv', sep='|')\n",
    "cars_data.rename(columns={'Unnamed: 0': 'make_model'}, inplace=True)\n",
    "cars_data.head()"
   ]
  },
  {
   "cell_type": "markdown",
   "metadata": {},
   "source": [
    "---\n",
    "\n",
    "Seeing the structure of the data, in the dataframe above, create a scatter plot which shows the following:\n",
    "\n",
    "* `disp` on the x-axis\n",
    "* `mpg` on the y-axis using `blue` markers of the `'0'` shape\n",
    "* A title which reads `\"Miles per gallon vs. Engine displacement\"\n",
    "* An x-axis title which reads `\"Engine Displacement (cubic inches)\"`\n",
    "* A y-axis title which reads `\"Efficiency (Miles per gallon)\"`"
   ]
  },
  {
   "cell_type": "markdown",
   "metadata": {},
   "source": [
    "1. Enter the code for your plot below\n",
    "2. Execute this cell after you've entered your code to display\n",
    "   the plot below (using `plt.show()`)"
   ]
  },
  {
   "cell_type": "code",
   "execution_count": 37,
   "metadata": {},
   "outputs": [
    {
     "data": {
      "image/png": "[encoded data removed]",
      "text/plain": [
       "<Figure size 432x288 with 1 Axes>"
      ]
     },
     "metadata": {
      "needs_background": "light"
     },
     "output_type": "display_data"
    }
   ],
   "source": [
    "# Enter your code here\n",
    "plt.figure()\n",
    "plt.scatter(cars_data['disp'], cars_data['mpg'], marker = 'o')\n",
    "plt.title('Miles per gallon vs. Engine displacement')\n",
    "plt.xlabel('Engine Displacement (cubic inches)')\n",
    "plt.ylabel('Efficiency (Miles per gallon)')\n",
    "plt.show()"
   ]
  },
  {
   "cell_type": "markdown",
   "metadata": {},
   "source": [
    "3. Once you're happy with your plot, paste your code in the cell below. Replace `plt.show()` with `plt.savefig('../images/mpg_displacement.png')` and execute the cell to export the image to a file\n",
    "\n",
    "This is a technique that is not shown in the lesson, but is perhaps the most common way that you might create an image which you are able to share or implement in a presentation."
   ]
  },
  {
   "cell_type": "code",
   "execution_count": 38,
   "metadata": {},
   "outputs": [
    {
     "data": {
      "image/png": "[encoded data removed]",
      "text/plain": [
       "<Figure size 432x288 with 1 Axes>"
      ]
     },
     "metadata": {
      "needs_background": "light"
     },
     "output_type": "display_data"
    }
   ],
   "source": [
    "# Paste (and modify) your code here\n",
    "plt.figure()\n",
    "plt.scatter(cars_data['disp'], cars_data['mpg'], marker = 'o')\n",
    "plt.title('Miles per gallon vs. Engine displacement')\n",
    "plt.xlabel('Engine Displacement (cubic inches)')\n",
    "plt.ylabel('Efficiency (Miles per gallon)')\n",
    "plt.savefig('../images/mpg_displacement.png')"
   ]
  },
  {
   "cell_type": "markdown",
   "metadata": {},
   "source": [
    "<br><br><br><br><br><br><br><br>\n",
    "\n",
    "---\n",
    "\n",
    "### Challenge 2\n",
    "\n",
    "For the __*line plot*__ portion of this assignment, you'll be using a dataset showing the per-share quarterly profits (dividends) of the company Johnson & Johnson starting in 1960, ending in 1980.\n",
    "\n",
    "You'll need to do a little work to organize this data in a way that is useful for plotting.\n",
    "\n",
    "```\n",
    "      Qtr1  Qtr2  Qtr3  Qtr4\n",
    "      ----  ----  ----  ----\n",
    "1960  0.71  0.63  0.85  0.44\n",
    "1961  0.61  0.69  0.92  0.55\n",
    "1962  0.72  0.77  0.92  0.60\n",
    "1963  0.83  0.80  1.00  0.77\n",
    "1964  0.92  1.00  1.24  1.00\n",
    "1965  1.16  1.30  1.45  1.25\n",
    "1966  1.26  1.38  1.86  1.56\n",
    "1967  1.53  1.59  1.83  1.86\n",
    "1968  1.53  2.07  2.34  2.25\n",
    "1969  2.16  2.43  2.70  2.25\n",
    "1970  2.79  3.42  3.69  3.60\n",
    "1971  3.60  4.32  4.32  4.05\n",
    "1972  4.86  5.04  5.04  4.41\n",
    "1973  5.58  5.85  6.57  5.31\n",
    "1974  6.03  6.39  6.93  5.85\n",
    "1975  6.93  7.74  7.83  6.12\n",
    "1976  7.74  8.91  8.28  6.84\n",
    "1977  9.54 10.26  9.54  8.73\n",
    "1978 11.88 12.06 12.15  8.91\n",
    "1979 14.04 12.96 14.85  9.99\n",
    "1980 16.20 14.67 16.02 11.61\n",
    "\n",
    "```\n",
    "\n",
    "* You should produce a line graph\n",
    "* The x-axis should show the `time`. You will need to use `np.linspace()` to create an array of x data which aligns with each of the quarterly data points. That is, you will need an array of evenly spaced values starting at 1960, ending at 1981 (exclusive) with four points per year, i.e. `[1960, 1960.25, 1960.5, 1960.75, 1961, .... , 1980.75]`\n",
    "* The y-axis should have the earnings data\n",
    "* The x-axis label should be `\"Year\"`\n",
    "* The y-axis label should be `\"Earnings per share (U.S. Dollars)\"`\n",
    "* The title of the plot should be `\"Johnson and Johnson Quarterly Earnings\"`\n"
   ]
  },
  {
   "cell_type": "code",
   "execution_count": 39,
   "metadata": {},
   "outputs": [
    {
     "name": "stdout",
     "output_type": "stream",
     "text": [
      "['0.71', '0.63', '0.85', '0.44', '0.61', '0.69', '0.92', '0.55', '0.72', '0.77', '0.92', '0.60', '0.83', '0.80', '1.00', '0.77', '0.92', '1.00', '1.24', '1.00', '1.16', '1.30', '1.45', '1.25', '1.26', '1.38', '1.86', '1.56', '1.53', '1.59', '1.83', '1.86', '1.53', '2.07', '2.34', '2.25', '2.16', '2.43', '2.70', '2.25', '2.79', '3.42', '3.69', '3.60', '3.60', '4.32', '4.32', '4.05', '4.86', '5.04', '5.04', '4.41', '5.58', '5.85', '6.57', '5.31', '6.03', '6.39', '6.93', '5.85', '6.93', '7.74', '7.83', '6.12', '7.74', '8.91', '8.28', '6.84', '9.54', '10.26', '9.54', '8.73', '11.88', '12.06', '12.15', '8.91', '14.04', '12.96', '14.85', '9.99', '16.20', '14.67', '16.02', '11.61'] \n",
      " [1960.   1960.25 1960.5  1960.75 1961.   1961.25 1961.5  1961.75 1962.\n",
      " 1962.25 1962.5  1962.75 1963.   1963.25 1963.5  1963.75 1964.   1964.25\n",
      " 1964.5  1964.75 1965.   1965.25 1965.5  1965.75 1966.   1966.25 1966.5\n",
      " 1966.75 1967.   1967.25 1967.5  1967.75 1968.   1968.25 1968.5  1968.75\n",
      " 1969.   1969.25 1969.5  1969.75 1970.   1970.25 1970.5  1970.75 1971.\n",
      " 1971.25 1971.5  1971.75 1972.   1972.25 1972.5  1972.75 1973.   1973.25\n",
      " 1973.5  1973.75 1974.   1974.25 1974.5  1974.75 1975.   1975.25 1975.5\n",
      " 1975.75 1976.   1976.25 1976.5  1976.75 1977.   1977.25 1977.5  1977.75\n",
      " 1978.   1978.25 1978.5  1978.75 1979.   1979.25 1979.5  1979.75 1980.\n",
      " 1980.25 1980.5  1980.75]\n"
     ]
    }
   ],
   "source": [
    "string = '''\n",
    "0.71  0.63  0.85  0.44\n",
    "0.61  0.69  0.92  0.55\n",
    "0.72  0.77  0.92  0.60\n",
    "0.83  0.80  1.00  0.77\n",
    "0.92  1.00  1.24  1.00\n",
    "1.16  1.30  1.45  1.25\n",
    "1.26  1.38  1.86  1.56\n",
    "1.53  1.59  1.83  1.86\n",
    "1.53  2.07  2.34  2.25\n",
    "2.16  2.43  2.70  2.25\n",
    "2.79  3.42  3.69  3.60\n",
    "3.60  4.32  4.32  4.05\n",
    "4.86  5.04  5.04  4.41\n",
    "5.58  5.85  6.57  5.31\n",
    "6.03  6.39  6.93  5.85\n",
    "6.93  7.74  7.83  6.12\n",
    "7.74  8.91  8.28  6.84\n",
    "9.54 10.26  9.54  8.73\n",
    "11.88 12.06 12.15  8.91\n",
    "14.04 12.96 14.85  9.99\n",
    "16.20 14.67 16.02 11.61\n",
    "'''\n",
    "\n",
    "# Format the data into a usable format below:\n",
    "y_vals = string.split()\n",
    "x_vals = np.linspace(1960, 1980.75, 84)\n",
    "print(y_vals, '\\n', x_vals)"
   ]
  },
  {
   "cell_type": "markdown",
   "metadata": {},
   "source": [
    "1. Enter the code for your plot below\n",
    "2. Execute this cell after you've entered your code to display\n",
    "   the plot below (using `plt.show()`)"
   ]
  },
  {
   "cell_type": "code",
   "execution_count": 40,
   "metadata": {},
   "outputs": [
    {
     "data": {
      "image/png": "[encoded data removed]",
      "text/plain": [
       "<Figure size 432x288 with 1 Axes>"
      ]
     },
     "metadata": {
      "needs_background": "light"
     },
     "output_type": "display_data"
    }
   ],
   "source": [
    "# Your code below\n",
    "plt.figure()\n",
    "plt.plot(x_vals, y_vals)\n",
    "plt.ylabel('Earnings per share (U.S. Dollars)')\n",
    "plt.xlabel('Year')\n",
    "plt.title('Johnson and Johnson Quarterly Earnings')\n",
    "plt.show()"
   ]
  },
  {
   "cell_type": "markdown",
   "metadata": {},
   "source": [
    "3. Once you're happy with your plot, paste your code in the cell below. Replace `plt.show()` with `plt.savefig('../images/jj_earnings.png')` and execute the cell to export the image to a file\n",
    "\n",
    "This is a technique that is not shown in the lesson, but is perhaps the most common way that you might create an image which you are able to share or implement in a presentation."
   ]
  },
  {
   "cell_type": "raw",
   "metadata": {},
   "source": [
    "(# Code to save figure\n",
    "plt.figure()\n",
    "plt.plot(x_vals, y_vals)\n",
    "plt.ylabel('Earnings per share (U.S. Dollars)')\n",
    "plt.xlabel('Year')\n",
    "plt.title('Johnson and Johnson Quarterly Earnings')\n",
    "plt.savefig('../images/jj_earnings.png')"
   ]
  }
 ],
 "metadata": {
  "kernelspec": {
   "display_name": "Python 3",
   "language": "python",
   "name": "python3"
  },
  "language_info": {
   "codemirror_mode": {
    "name": "ipython",
    "version": 3
   },
   "file_extension": ".py",
   "mimetype": "text/x-python",
   "name": "python",
   "nbconvert_exporter": "python",
   "pygments_lexer": "ipython3",
   "version": "3.8.5"
  }
 },
 "nbformat": 4,
 "nbformat_minor": 4
}
